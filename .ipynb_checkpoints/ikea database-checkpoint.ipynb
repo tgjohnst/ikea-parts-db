{
 "cells": [
  {
   "cell_type": "markdown",
   "metadata": {},
   "source": [
    "# Creating a database of ikea parts\n",
    "\n",
    "## Objective and motivation\n",
    "\n",
    "Everyone loves Ikea furniture! Ikea has mastered the art of creating modular furniture from sets of similar parts. While the company provides plenty of information on the dimensions etc. of individual furniture pieces, there is no available resource that actually details which furniture is composed of which parts. I was curious about how ikea parts distribute across their various furniture lines, which could be useful if one is trying to find, say, the most difficult ikea piece to construct, or the most parts per dollar. Such a resource could also be useful for the large community of ikea modders/hackers, who combine parts from various ikea items to create new and wonderful furniture. \n",
    "\n",
    "Thus, the goal of this project is to scrape and construct a database that stores the composition of all ikea furniture parts, from minimal available data.\n",
    "\n",
    "## Strategy overview\n",
    "\n",
    "Use tesseract with python to perform OCR\n",
    "Output files in HOCR format. \n",
    "\n",
    "HOCR should include a 'textangle' parameter, if not we can perform OCR on the raw page and the page flipped 90 degrees.\n",
    "\n",
    "If we find vertical 6-digit numbers on an early page, declare that page to have parts on it and analyze further\n",
    "\tto identify parts, we can try\n",
    "\t\tlook for textangle vertical\n",
    "\t\tcombine all adjacent spans, and add to a list\n",
    "\t\tuse a regex to find 6 digit numbers \n",
    "\t\t\t(do all ikea part numbers begin with 1?)\n",
    "\n",
    "For each 6-digit part number that we know of from ikea database:\n",
    "\tTake the non-rotated OCR of that page\n",
    "\tdraw a radius around the centroid of the part number. Start small\n",
    "\t\tLook for any text\n",
    "\t\tIf we find text\n",
    "\t\t\tLook to see whether it contains an X\n",
    "\t\t\tif so\n",
    "\t\t\t\tCombine all spans adjacent to that X\n",
    "\t\t\t\textract the numeric part that precedes the X\n",
    "\n",
    "\n"
   ]
  },
  {
   "cell_type": "markdown",
   "metadata": {
    "collapsed": true
   },
   "source": [
    "## Step 1: Retrieving and storing the assembly manuals\n",
    "\n",
    "Ikea lists all available manuals at the following website: http://www.ikea.com/ms/en_US/customer_service/assembly_instructions.html#2\n",
    "Links to the pdf files themselves are javascript popups, so we must programmatically extract the names of each furniture piece and the link to its pdf from the page's source code. While doing this, we save a list of file paths, a set of furniture names, and a unique identifier for each furniture piece that will persist throughout the construction.\n",
    "*DOES IKEA HAVE UNIQUE NAMES ALREADY?*"
   ]
  },
  {
   "cell_type": "code",
   "execution_count": null,
   "metadata": {
    "collapsed": true
   },
   "outputs": [],
   "source": []
  }
 ],
 "metadata": {
  "kernelspec": {
   "display_name": "Python 2",
   "language": "python",
   "name": "python2"
  },
  "language_info": {
   "codemirror_mode": {
    "name": "ipython",
    "version": 2
   },
   "file_extension": ".py",
   "mimetype": "text/x-python",
   "name": "python",
   "nbconvert_exporter": "python",
   "pygments_lexer": "ipython2",
   "version": "2.7.5"
  }
 },
 "nbformat": 4,
 "nbformat_minor": 0
}
